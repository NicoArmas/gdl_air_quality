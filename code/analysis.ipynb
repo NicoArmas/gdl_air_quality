{
 "cells": [
  {
   "cell_type": "code",
   "execution_count": 1,
   "metadata": {},
   "outputs": [],
   "source": [
    "def node_info(df, node):\n",
    "    #print(f'Node: {node}')\n",
    "    co = df.loc[:, node]['CO']\n",
    "    no2 = df.loc[:, node]['NO2']\n",
    "    pm10 = df.loc[:, node]['PM10']\n",
    "    pm25 = df.loc[:, node]['PM25']\n",
    "    so2 = df.loc[:, node]['SO2']\n",
    "\n",
    "    co_nans = co.isna().sum()\n",
    "    no2_nans = no2.isna().sum()\n",
    "    pm10_nans = pm10.isna().sum()\n",
    "    pm25_nans = pm25.isna().sum()\n",
    "    so2_nans = so2.isna().sum()\n",
    "\n",
    "    co_perc = round((co_nans/len(co))*100, 2)\n",
    "    no2_perc = round((no2_nans/len(no2))*100, 2)\n",
    "    pm10_perc = round((pm10_nans/len(pm10))*100, 2)\n",
    "    pm25_perc = round((pm25_nans/len(pm25))*100, 2)\n",
    "    so2_perc = round((so2_nans/len(so2))*100, 2)\n",
    "\n",
    "    features = [co_perc, no2_perc,  pm10_perc, pm25_perc, so2_perc]\n",
    "\n",
    "    # print(f'CO NaNs: \\t{co_nans}\\t({co_perc}% of total for this node)')\n",
    "    # print(f'NO2 NaNs: \\t{no2_nans}\\t({no2_perc}% of total for this node)')\n",
    "    # print(f'PM10 NaNs: \\t{pm10_nans}\\t({pm10_perc}% of total for this node)')\n",
    "    # print(f'PM25 NaNs: \\t{pm25_nans}\\t({pm25_perc}% of total for this node)')\n",
    "    # print(f'SO2 NaNs: \\t{so2_nans}\\t({so2_perc}% of total for this node)')\n",
    "    # print()\n",
    "\n",
    "    return features\n"
   ]
  },
  {
   "cell_type": "code",
   "execution_count": 2,
   "metadata": {},
   "outputs": [],
   "source": [
    "import pandas as pd"
   ]
  },
  {
   "cell_type": "code",
   "execution_count": 3,
   "metadata": {},
   "outputs": [],
   "source": [
    "new_final = pd.read_pickle('../data/analysis1.pkl')"
   ]
  },
  {
   "cell_type": "markdown",
   "metadata": {},
   "source": [
    "### Analisys of NaNs values per node (all features)"
   ]
  },
  {
   "cell_type": "markdown",
   "metadata": {},
   "source": [
    "First we get all the unique values for the nodes:"
   ]
  },
  {
   "cell_type": "code",
   "execution_count": 4,
   "metadata": {},
   "outputs": [],
   "source": [
    "unique_nodes = new_final.columns.get_level_values(0).drop_duplicates()"
   ]
  },
  {
   "cell_type": "code",
   "execution_count": 5,
   "metadata": {},
   "outputs": [
    {
     "data": {
      "text/plain": [
       "1326"
      ]
     },
     "execution_count": 5,
     "metadata": {},
     "output_type": "execute_result"
    }
   ],
   "source": [
    "len(unique_nodes)"
   ]
  },
  {
   "cell_type": "code",
   "execution_count": 6,
   "metadata": {},
   "outputs": [
    {
     "data": {
      "text/html": [
       "<div>\n",
       "<style scoped>\n",
       "    .dataframe tbody tr th:only-of-type {\n",
       "        vertical-align: middle;\n",
       "    }\n",
       "\n",
       "    .dataframe tbody tr th {\n",
       "        vertical-align: top;\n",
       "    }\n",
       "\n",
       "    .dataframe thead tr th {\n",
       "        text-align: left;\n",
       "    }\n",
       "\n",
       "    .dataframe thead tr:last-of-type th {\n",
       "        text-align: right;\n",
       "    }\n",
       "</style>\n",
       "<table border=\"1\" class=\"dataframe\">\n",
       "  <thead>\n",
       "    <tr>\n",
       "      <th>uniqueid</th>\n",
       "      <th colspan=\"5\" halign=\"left\">1.0-113.0-3.0</th>\n",
       "      <th colspan=\"5\" halign=\"left\">1.0-117.0-9001.0</th>\n",
       "      <th>...</th>\n",
       "      <th colspan=\"5\" halign=\"left\">9.0-9.0-2123.0</th>\n",
       "      <th colspan=\"5\" halign=\"left\">9.0-9.0-27.0</th>\n",
       "    </tr>\n",
       "    <tr>\n",
       "      <th></th>\n",
       "      <th>CO</th>\n",
       "      <th>NO2</th>\n",
       "      <th>PM10</th>\n",
       "      <th>PM25</th>\n",
       "      <th>SO2</th>\n",
       "      <th>CO</th>\n",
       "      <th>NO2</th>\n",
       "      <th>PM10</th>\n",
       "      <th>PM25</th>\n",
       "      <th>SO2</th>\n",
       "      <th>...</th>\n",
       "      <th>CO</th>\n",
       "      <th>NO2</th>\n",
       "      <th>PM10</th>\n",
       "      <th>PM25</th>\n",
       "      <th>SO2</th>\n",
       "      <th>CO</th>\n",
       "      <th>NO2</th>\n",
       "      <th>PM10</th>\n",
       "      <th>PM25</th>\n",
       "      <th>SO2</th>\n",
       "    </tr>\n",
       "    <tr>\n",
       "      <th>DateTime</th>\n",
       "      <th></th>\n",
       "      <th></th>\n",
       "      <th></th>\n",
       "      <th></th>\n",
       "      <th></th>\n",
       "      <th></th>\n",
       "      <th></th>\n",
       "      <th></th>\n",
       "      <th></th>\n",
       "      <th></th>\n",
       "      <th></th>\n",
       "      <th></th>\n",
       "      <th></th>\n",
       "      <th></th>\n",
       "      <th></th>\n",
       "      <th></th>\n",
       "      <th></th>\n",
       "      <th></th>\n",
       "      <th></th>\n",
       "      <th></th>\n",
       "      <th></th>\n",
       "    </tr>\n",
       "  </thead>\n",
       "  <tbody>\n",
       "    <tr>\n",
       "      <th>2018-01-01 04:00:00</th>\n",
       "      <td>NaN</td>\n",
       "      <td>NaN</td>\n",
       "      <td>NaN</td>\n",
       "      <td>NaN</td>\n",
       "      <td>NaN</td>\n",
       "      <td>NaN</td>\n",
       "      <td>NaN</td>\n",
       "      <td>NaN</td>\n",
       "      <td>NaN</td>\n",
       "      <td>NaN</td>\n",
       "      <td>...</td>\n",
       "      <td>NaN</td>\n",
       "      <td>NaN</td>\n",
       "      <td>NaN</td>\n",
       "      <td>NaN</td>\n",
       "      <td>NaN</td>\n",
       "      <td>NaN</td>\n",
       "      <td>NaN</td>\n",
       "      <td>NaN</td>\n",
       "      <td>NaN</td>\n",
       "      <td>NaN</td>\n",
       "    </tr>\n",
       "    <tr>\n",
       "      <th>2018-01-01 05:00:00</th>\n",
       "      <td>NaN</td>\n",
       "      <td>NaN</td>\n",
       "      <td>NaN</td>\n",
       "      <td>NaN</td>\n",
       "      <td>NaN</td>\n",
       "      <td>NaN</td>\n",
       "      <td>NaN</td>\n",
       "      <td>NaN</td>\n",
       "      <td>NaN</td>\n",
       "      <td>NaN</td>\n",
       "      <td>...</td>\n",
       "      <td>NaN</td>\n",
       "      <td>NaN</td>\n",
       "      <td>NaN</td>\n",
       "      <td>0.0</td>\n",
       "      <td>NaN</td>\n",
       "      <td>0.156</td>\n",
       "      <td>4.9</td>\n",
       "      <td>2.0</td>\n",
       "      <td>3.0</td>\n",
       "      <td>0.3</td>\n",
       "    </tr>\n",
       "    <tr>\n",
       "      <th>2018-01-01 06:00:00</th>\n",
       "      <td>NaN</td>\n",
       "      <td>NaN</td>\n",
       "      <td>NaN</td>\n",
       "      <td>16.0</td>\n",
       "      <td>NaN</td>\n",
       "      <td>NaN</td>\n",
       "      <td>NaN</td>\n",
       "      <td>NaN</td>\n",
       "      <td>NaN</td>\n",
       "      <td>NaN</td>\n",
       "      <td>...</td>\n",
       "      <td>NaN</td>\n",
       "      <td>NaN</td>\n",
       "      <td>NaN</td>\n",
       "      <td>1.0</td>\n",
       "      <td>NaN</td>\n",
       "      <td>NaN</td>\n",
       "      <td>4.6</td>\n",
       "      <td>4.0</td>\n",
       "      <td>3.0</td>\n",
       "      <td>0.3</td>\n",
       "    </tr>\n",
       "    <tr>\n",
       "      <th>2018-01-01 07:00:00</th>\n",
       "      <td>NaN</td>\n",
       "      <td>NaN</td>\n",
       "      <td>NaN</td>\n",
       "      <td>15.0</td>\n",
       "      <td>NaN</td>\n",
       "      <td>NaN</td>\n",
       "      <td>NaN</td>\n",
       "      <td>NaN</td>\n",
       "      <td>NaN</td>\n",
       "      <td>NaN</td>\n",
       "      <td>...</td>\n",
       "      <td>NaN</td>\n",
       "      <td>NaN</td>\n",
       "      <td>NaN</td>\n",
       "      <td>4.0</td>\n",
       "      <td>NaN</td>\n",
       "      <td>0.151</td>\n",
       "      <td>5.3</td>\n",
       "      <td>1.0</td>\n",
       "      <td>3.0</td>\n",
       "      <td>0.3</td>\n",
       "    </tr>\n",
       "    <tr>\n",
       "      <th>2018-01-01 08:00:00</th>\n",
       "      <td>NaN</td>\n",
       "      <td>NaN</td>\n",
       "      <td>NaN</td>\n",
       "      <td>15.0</td>\n",
       "      <td>NaN</td>\n",
       "      <td>NaN</td>\n",
       "      <td>NaN</td>\n",
       "      <td>NaN</td>\n",
       "      <td>NaN</td>\n",
       "      <td>1.8</td>\n",
       "      <td>...</td>\n",
       "      <td>NaN</td>\n",
       "      <td>NaN</td>\n",
       "      <td>NaN</td>\n",
       "      <td>3.0</td>\n",
       "      <td>NaN</td>\n",
       "      <td>0.155</td>\n",
       "      <td>4.0</td>\n",
       "      <td>0.0</td>\n",
       "      <td>1.0</td>\n",
       "      <td>0.3</td>\n",
       "    </tr>\n",
       "  </tbody>\n",
       "</table>\n",
       "<p>5 rows × 6630 columns</p>\n",
       "</div>"
      ],
      "text/plain": [
       "uniqueid            1.0-113.0-3.0                    1.0-117.0-9001.0      \\\n",
       "                               CO NO2 PM10  PM25 SO2               CO NO2   \n",
       "DateTime                                                                    \n",
       "2018-01-01 04:00:00           NaN NaN  NaN   NaN NaN              NaN NaN   \n",
       "2018-01-01 05:00:00           NaN NaN  NaN   NaN NaN              NaN NaN   \n",
       "2018-01-01 06:00:00           NaN NaN  NaN  16.0 NaN              NaN NaN   \n",
       "2018-01-01 07:00:00           NaN NaN  NaN  15.0 NaN              NaN NaN   \n",
       "2018-01-01 08:00:00           NaN NaN  NaN  15.0 NaN              NaN NaN   \n",
       "\n",
       "uniqueid                            ... 9.0-9.0-2123.0                    \\\n",
       "                    PM10 PM25  SO2  ...             CO NO2 PM10 PM25 SO2   \n",
       "DateTime                            ...                                    \n",
       "2018-01-01 04:00:00  NaN  NaN  NaN  ...            NaN NaN  NaN  NaN NaN   \n",
       "2018-01-01 05:00:00  NaN  NaN  NaN  ...            NaN NaN  NaN  0.0 NaN   \n",
       "2018-01-01 06:00:00  NaN  NaN  NaN  ...            NaN NaN  NaN  1.0 NaN   \n",
       "2018-01-01 07:00:00  NaN  NaN  NaN  ...            NaN NaN  NaN  4.0 NaN   \n",
       "2018-01-01 08:00:00  NaN  NaN  1.8  ...            NaN NaN  NaN  3.0 NaN   \n",
       "\n",
       "uniqueid            9.0-9.0-27.0                      \n",
       "                              CO  NO2 PM10 PM25  SO2  \n",
       "DateTime                                              \n",
       "2018-01-01 04:00:00          NaN  NaN  NaN  NaN  NaN  \n",
       "2018-01-01 05:00:00        0.156  4.9  2.0  3.0  0.3  \n",
       "2018-01-01 06:00:00          NaN  4.6  4.0  3.0  0.3  \n",
       "2018-01-01 07:00:00        0.151  5.3  1.0  3.0  0.3  \n",
       "2018-01-01 08:00:00        0.155  4.0  0.0  1.0  0.3  \n",
       "\n",
       "[5 rows x 6630 columns]"
      ]
     },
     "execution_count": 6,
     "metadata": {},
     "output_type": "execute_result"
    }
   ],
   "source": [
    "new_final.head()"
   ]
  },
  {
   "cell_type": "code",
   "execution_count": 7,
   "metadata": {},
   "outputs": [],
   "source": [
    "dict = {}\n",
    "kept_nodes = []"
   ]
  },
  {
   "cell_type": "code",
   "execution_count": 8,
   "metadata": {},
   "outputs": [],
   "source": [
    "def keep_node(features):\n",
    "    if features[3] < 90:\n",
    "        return True\n",
    "    else:\n",
    "        return False\n"
   ]
  },
  {
   "cell_type": "markdown",
   "metadata": {},
   "source": [
    "For each node, we calculate the percent of NaN values for the different pollutants. <br>\n",
    "Note that we only keep the nodes which have a percent of PM2.5 NaNs values < 90 %"
   ]
  },
  {
   "cell_type": "code",
   "execution_count": 9,
   "metadata": {},
   "outputs": [],
   "source": [
    "for node in unique_nodes:\n",
    "    dict[node] = node_info(new_final, node)\n",
    "    keep = keep_node(dict[node])\n",
    "\n",
    "    if keep:\n",
    "        kept_nodes.append(node)\n"
   ]
  },
  {
   "cell_type": "code",
   "execution_count": 10,
   "metadata": {},
   "outputs": [
    {
     "data": {
      "text/plain": [
       "665"
      ]
     },
     "execution_count": 10,
     "metadata": {},
     "output_type": "execute_result"
    }
   ],
   "source": [
    "len(kept_nodes)"
   ]
  },
  {
   "cell_type": "code",
   "execution_count": 11,
   "metadata": {},
   "outputs": [],
   "source": [
    "import matplotlib.pyplot as plt"
   ]
  },
  {
   "cell_type": "markdown",
   "metadata": {},
   "source": [
    "We plot the first 15 out of our 665 kept nodes to show that for nodes with an acceptable percent of PM2.5, the other pollutants are mostly 100% NaN"
   ]
  },
  {
   "cell_type": "code",
   "execution_count": 12,
   "metadata": {},
   "outputs": [],
   "source": [
    "def get_nans_perc(kept, slice_at=None):\n",
    "\n",
    "    nans_perc = [\n",
    "                 [], # CO\n",
    "                 [], # NO2\n",
    "                 [], # PM10\n",
    "                 [], # PM25\n",
    "                 []  # SO2\n",
    "                ]\n",
    "\n",
    "    if slice_at is not None:\n",
    "        kept = kept[:slice_at]\n",
    "\n",
    "    for i in range(len(kept)):\n",
    "        node = kept[i]\n",
    "        nans_perc[0].append(dict[node][0])\n",
    "        nans_perc[1].append(dict[node][1])\n",
    "        nans_perc[2].append(dict[node][2])\n",
    "        nans_perc[3].append(dict[node][3])\n",
    "        nans_perc[4].append(dict[node][4])\n",
    "\n",
    "    return nans_perc\n",
    "\n",
    "    "
   ]
  },
  {
   "cell_type": "code",
   "execution_count": 13,
   "metadata": {},
   "outputs": [
    {
     "data": {
      "image/png": "[encoded data removed]",
      "text/plain": [
       "<Figure size 1440x504 with 1 Axes>"
      ]
     },
     "metadata": {
      "needs_background": "light"
     },
     "output_type": "display_data"
    }
   ],
   "source": [
    "import matplotlib.pyplot as plt\n",
    "import numpy as np\n",
    "\n",
    "num = 15\n",
    "\n",
    "labels = np.arange(1, num+1)\n",
    "\n",
    "x = np.arange(len(labels))  # the label locations\n",
    "\n",
    "width = 0.1  # the width of the bars\n",
    "\n",
    "nans_perc = get_nans_perc(kept_nodes, slice_at = num)\n",
    "\n",
    "r1 = np.arange(len(nans_perc[0]))\n",
    "r2 = [x + width for x in r1]\n",
    "r3 = [x + width for x in r2]\n",
    "r4 = [x + width for x in r3]\n",
    "r5 = [x + width for x in r4]\n",
    "\n",
    "fig, ax = plt.subplots(figsize=(20, 7))\n",
    "rects1 = ax.bar(r1, nans_perc[0], width, label='CO')\n",
    "rects2 = ax.bar(r2, nans_perc[1], width, label='NO2')\n",
    "rects3 = ax.bar(r3, nans_perc[2], width, label='PM10')\n",
    "rects4 = ax.bar(r4, nans_perc[3], width, label='PM25')\n",
    "rects5 = ax.bar(r5, nans_perc[4], width, label='SO2')\n",
    "\n",
    "\n",
    "# Add some text for labels, title and custom x-axis tick labels, etc.\n",
    "ax.set_ylabel('NaN Percents', size = 25)\n",
    "ax.set_xlabel('First 15 nodes with PM25 NaN percent less than 90%', size = 25)\n",
    "#ax.set_title('Scores by group and gender')\n",
    "ax.set_xticks(x, labels, size=17)\n",
    "\n",
    "plt.yticks(fontsize=17)\n",
    "\n",
    "ax.legend(bbox_to_anchor=(0,1.02,1,0.2), loc=\"lower center\", borderaxespad=0, ncol=5, fontsize=15)\n",
    "\n",
    "fig.tight_layout()\n",
    "\n",
    "plt.show()"
   ]
  },
  {
   "cell_type": "markdown",
   "metadata": {},
   "source": [
    "For the reason explained above we decide to keep only PM2.5 as pollutant for our data and subsequent training"
   ]
  },
  {
   "cell_type": "markdown",
   "metadata": {},
   "source": [
    "Now we plot the distribution of the percent of NaNs only in PM2.5 pollutant for the kept nodes"
   ]
  },
  {
   "cell_type": "code",
   "execution_count": 14,
   "metadata": {},
   "outputs": [],
   "source": [
    "pm25_perc_all = get_nans_perc(kept_nodes)[3]"
   ]
  },
  {
   "cell_type": "code",
   "execution_count": 15,
   "metadata": {},
   "outputs": [
    {
     "data": {
      "image/png": "[encoded data removed]",
      "text/plain": [
       "<Figure size 1224x720 with 1 Axes>"
      ]
     },
     "metadata": {
      "needs_background": "light"
     },
     "output_type": "display_data"
    }
   ],
   "source": [
    "\n",
    "binwidth = 2\n",
    "fig, ax = plt.subplots(figsize=(17, 10))\n",
    "\n",
    "ax.hist(pm25_perc_all, bins = int(180/binwidth),\n",
    "             color = 'tab:red', edgecolor = 'tab:red')\n",
    "    \n",
    "# Title and labels\n",
    "ax.set_xlabel('NaNs percent', size = 22)\n",
    "ax.set_ylabel('Nodes', size= 22)\n",
    "\n",
    "ax.set_xticks(np.arange(0, 91, binwidth));"
   ]
  },
  {
   "cell_type": "markdown",
   "metadata": {},
   "source": [
    "We also analyse the distribution of the non-NaNs values of the PM2.5 in the entire dataset: "
   ]
  },
  {
   "cell_type": "code",
   "execution_count": 16,
   "metadata": {},
   "outputs": [],
   "source": [
    "pm25_df = new_final.copy()\n",
    "\n",
    "pm25_df.drop(['CO', 'NO2', 'PM10', 'SO2'], axis=1, level=1, inplace=True)"
   ]
  },
  {
   "cell_type": "code",
   "execution_count": 17,
   "metadata": {},
   "outputs": [],
   "source": [
    "pm25_df = pm25_df.loc[:, kept_nodes]"
   ]
  },
  {
   "cell_type": "code",
   "execution_count": 18,
   "metadata": {},
   "outputs": [
    {
     "data": {
      "text/plain": [
       "(17526, 665)"
      ]
     },
     "execution_count": 18,
     "metadata": {},
     "output_type": "execute_result"
    }
   ],
   "source": [
    "pm25_df.shape"
   ]
  },
  {
   "cell_type": "code",
   "execution_count": 19,
   "metadata": {},
   "outputs": [],
   "source": [
    "pm25_all_vals = pm25_df.values.flatten()"
   ]
  },
  {
   "cell_type": "code",
   "execution_count": 20,
   "metadata": {},
   "outputs": [],
   "source": [
    "nan_array = np.isnan(pm25_all_vals)\n",
    "not_nan_array = ~ nan_array\n",
    "pm25_not_nans = pm25_all_vals[not_nan_array]"
   ]
  },
  {
   "cell_type": "code",
   "execution_count": 21,
   "metadata": {},
   "outputs": [
    {
     "name": "stdout",
     "output_type": "stream",
     "text": [
      "-73.4\n",
      "1248.9\n"
     ]
    }
   ],
   "source": [
    "print(min(pm25_not_nans))\n",
    "print(max(pm25_not_nans))"
   ]
  },
  {
   "cell_type": "code",
   "execution_count": 22,
   "metadata": {},
   "outputs": [
    {
     "data": {
      "image/png": "[encoded data removed]",
      "text/plain": [
       "<Figure size 720x1800 with 1 Axes>"
      ]
     },
     "metadata": {
      "needs_background": "light"
     },
     "output_type": "display_data"
    }
   ],
   "source": [
    "\n",
    "binwidth = 1\n",
    "fig, ax = plt.subplots(figsize=(10, 25))\n",
    "\n",
    "ax.boxplot(pm25_not_nans)\n",
    "    \n",
    "# Title and labels\n",
    "ax.set_ylabel('PM2.5 Values', size= 22)\n",
    "\n",
    "ax.set_xticks([]);"
   ]
  },
  {
   "cell_type": "markdown",
   "metadata": {},
   "source": [
    "## Loading the dataset class"
   ]
  },
  {
   "cell_type": "markdown",
   "metadata": {},
   "source": [
    "The class uses a slight different dataset than the one used in the previous analysis. <br>\n",
    "We actually decided to add one year more of data (2020) to the dataset."
   ]
  },
  {
   "cell_type": "code",
   "execution_count": 23,
   "metadata": {},
   "outputs": [
    {
     "name": "stdout",
     "output_type": "stream",
     "text": [
      "Found temporal data pickle, loading...\tDONE!\n",
      "Found a valid build, loading... \tDONE!\n"
     ]
    }
   ],
   "source": [
    "from airquality import AirQuality\n",
    "aq = AirQuality(data_dir='../data')\n"
   ]
  },
  {
   "cell_type": "markdown",
   "metadata": {},
   "source": [
    "The temporal builder is called when the class AirQuality is initialized. <br>\n",
    "It creates a pandas multiindex dataframe by selecting the nodes with a percentage of PM2.5 NaNs values < 90%."
   ]
  },
  {
   "cell_type": "code",
   "execution_count": 24,
   "metadata": {},
   "outputs": [
    {
     "data": {
      "text/plain": [
       "695"
      ]
     },
     "execution_count": 24,
     "metadata": {},
     "output_type": "execute_result"
    }
   ],
   "source": [
    "tbd = aq.temporal\n",
    "len(tbd.nodes_to_keep)"
   ]
  },
  {
   "cell_type": "code",
   "execution_count": 31,
   "metadata": {},
   "outputs": [],
   "source": [
    "sites = tbd.dataset"
   ]
  },
  {
   "cell_type": "code",
   "execution_count": 25,
   "metadata": {},
   "outputs": [
    {
     "data": {
      "text/html": [
       "<div>\n",
       "<style scoped>\n",
       "    .dataframe tbody tr th:only-of-type {\n",
       "        vertical-align: middle;\n",
       "    }\n",
       "\n",
       "    .dataframe tbody tr th {\n",
       "        vertical-align: top;\n",
       "    }\n",
       "\n",
       "    .dataframe thead tr th {\n",
       "        text-align: left;\n",
       "    }\n",
       "\n",
       "    .dataframe thead tr:last-of-type th {\n",
       "        text-align: right;\n",
       "    }\n",
       "</style>\n",
       "<table border=\"1\" class=\"dataframe\">\n",
       "  <thead>\n",
       "    <tr>\n",
       "      <th>nodes</th>\n",
       "      <th>1.0-103.0-11.0</th>\n",
       "      <th>1.0-113.0-3.0</th>\n",
       "      <th>1.0-73.0-23.0</th>\n",
       "      <th>10.0-1.0-2.0</th>\n",
       "      <th>10.0-3.0-1007.0</th>\n",
       "      <th>10.0-3.0-1008.0</th>\n",
       "      <th>10.0-3.0-2004.0</th>\n",
       "      <th>10.0-5.0-1002.0</th>\n",
       "      <th>11.0-1.0-41.0</th>\n",
       "      <th>11.0-1.0-43.0</th>\n",
       "      <th>...</th>\n",
       "      <th>80.0-2.0-12.0</th>\n",
       "      <th>80.0-2.0-14.0</th>\n",
       "      <th>9.0-1.0-10.0</th>\n",
       "      <th>9.0-1.0-1123.0</th>\n",
       "      <th>9.0-11.0-124.0</th>\n",
       "      <th>9.0-3.0-1003.0</th>\n",
       "      <th>9.0-3.0-25.0</th>\n",
       "      <th>9.0-5.0-5.0</th>\n",
       "      <th>9.0-9.0-2123.0</th>\n",
       "      <th>9.0-9.0-27.0</th>\n",
       "    </tr>\n",
       "    <tr>\n",
       "      <th>channels</th>\n",
       "      <th>PM25</th>\n",
       "      <th>PM25</th>\n",
       "      <th>PM25</th>\n",
       "      <th>PM25</th>\n",
       "      <th>PM25</th>\n",
       "      <th>PM25</th>\n",
       "      <th>PM25</th>\n",
       "      <th>PM25</th>\n",
       "      <th>PM25</th>\n",
       "      <th>PM25</th>\n",
       "      <th>...</th>\n",
       "      <th>PM25</th>\n",
       "      <th>PM25</th>\n",
       "      <th>PM25</th>\n",
       "      <th>PM25</th>\n",
       "      <th>PM25</th>\n",
       "      <th>PM25</th>\n",
       "      <th>PM25</th>\n",
       "      <th>PM25</th>\n",
       "      <th>PM25</th>\n",
       "      <th>PM25</th>\n",
       "    </tr>\n",
       "    <tr>\n",
       "      <th>DateTime</th>\n",
       "      <th></th>\n",
       "      <th></th>\n",
       "      <th></th>\n",
       "      <th></th>\n",
       "      <th></th>\n",
       "      <th></th>\n",
       "      <th></th>\n",
       "      <th></th>\n",
       "      <th></th>\n",
       "      <th></th>\n",
       "      <th></th>\n",
       "      <th></th>\n",
       "      <th></th>\n",
       "      <th></th>\n",
       "      <th></th>\n",
       "      <th></th>\n",
       "      <th></th>\n",
       "      <th></th>\n",
       "      <th></th>\n",
       "      <th></th>\n",
       "      <th></th>\n",
       "    </tr>\n",
       "  </thead>\n",
       "  <tbody>\n",
       "    <tr>\n",
       "      <th>2018-01-01 05:00:00</th>\n",
       "      <td>10.900000</td>\n",
       "      <td>19.142857</td>\n",
       "      <td>11.44</td>\n",
       "      <td>5.4</td>\n",
       "      <td>13.0</td>\n",
       "      <td>10.0</td>\n",
       "      <td>7.2</td>\n",
       "      <td>5.2</td>\n",
       "      <td>10.0</td>\n",
       "      <td>12.0</td>\n",
       "      <td>...</td>\n",
       "      <td>53.166668</td>\n",
       "      <td>116.166664</td>\n",
       "      <td>11.0</td>\n",
       "      <td>9.0</td>\n",
       "      <td>7.0</td>\n",
       "      <td>6.0</td>\n",
       "      <td>8.0</td>\n",
       "      <td>7.0</td>\n",
       "      <td>0.0</td>\n",
       "      <td>3.0</td>\n",
       "    </tr>\n",
       "    <tr>\n",
       "      <th>2018-01-01 06:00:00</th>\n",
       "      <td>9.428533</td>\n",
       "      <td>16.000000</td>\n",
       "      <td>13.40</td>\n",
       "      <td>5.2</td>\n",
       "      <td>12.1</td>\n",
       "      <td>12.1</td>\n",
       "      <td>5.6</td>\n",
       "      <td>5.2</td>\n",
       "      <td>14.0</td>\n",
       "      <td>11.0</td>\n",
       "      <td>...</td>\n",
       "      <td>61.833332</td>\n",
       "      <td>137.500000</td>\n",
       "      <td>8.0</td>\n",
       "      <td>9.0</td>\n",
       "      <td>7.0</td>\n",
       "      <td>6.0</td>\n",
       "      <td>10.0</td>\n",
       "      <td>6.0</td>\n",
       "      <td>1.0</td>\n",
       "      <td>3.0</td>\n",
       "    </tr>\n",
       "    <tr>\n",
       "      <th>2018-01-01 07:00:00</th>\n",
       "      <td>9.472011</td>\n",
       "      <td>15.000000</td>\n",
       "      <td>21.10</td>\n",
       "      <td>8.0</td>\n",
       "      <td>13.0</td>\n",
       "      <td>12.8</td>\n",
       "      <td>5.1</td>\n",
       "      <td>5.2</td>\n",
       "      <td>11.0</td>\n",
       "      <td>11.0</td>\n",
       "      <td>...</td>\n",
       "      <td>71.500000</td>\n",
       "      <td>141.166672</td>\n",
       "      <td>9.0</td>\n",
       "      <td>5.0</td>\n",
       "      <td>6.0</td>\n",
       "      <td>8.0</td>\n",
       "      <td>7.0</td>\n",
       "      <td>5.0</td>\n",
       "      <td>4.0</td>\n",
       "      <td>3.0</td>\n",
       "    </tr>\n",
       "    <tr>\n",
       "      <th>2018-01-01 08:00:00</th>\n",
       "      <td>9.545652</td>\n",
       "      <td>15.000000</td>\n",
       "      <td>17.40</td>\n",
       "      <td>7.7</td>\n",
       "      <td>14.1</td>\n",
       "      <td>12.5</td>\n",
       "      <td>4.8</td>\n",
       "      <td>6.1</td>\n",
       "      <td>16.0</td>\n",
       "      <td>9.0</td>\n",
       "      <td>...</td>\n",
       "      <td>344.000000</td>\n",
       "      <td>622.000000</td>\n",
       "      <td>8.0</td>\n",
       "      <td>3.0</td>\n",
       "      <td>3.0</td>\n",
       "      <td>7.0</td>\n",
       "      <td>3.0</td>\n",
       "      <td>1.0</td>\n",
       "      <td>3.0</td>\n",
       "      <td>1.0</td>\n",
       "    </tr>\n",
       "    <tr>\n",
       "      <th>2018-01-01 09:00:00</th>\n",
       "      <td>9.561413</td>\n",
       "      <td>13.000000</td>\n",
       "      <td>5.40</td>\n",
       "      <td>7.6</td>\n",
       "      <td>15.7</td>\n",
       "      <td>7.9</td>\n",
       "      <td>4.2</td>\n",
       "      <td>6.0</td>\n",
       "      <td>8.0</td>\n",
       "      <td>10.0</td>\n",
       "      <td>...</td>\n",
       "      <td>292.000000</td>\n",
       "      <td>744.000000</td>\n",
       "      <td>5.0</td>\n",
       "      <td>4.0</td>\n",
       "      <td>3.0</td>\n",
       "      <td>5.0</td>\n",
       "      <td>3.0</td>\n",
       "      <td>4.0</td>\n",
       "      <td>1.0</td>\n",
       "      <td>0.0</td>\n",
       "    </tr>\n",
       "  </tbody>\n",
       "</table>\n",
       "<p>5 rows × 695 columns</p>\n",
       "</div>"
      ],
      "text/plain": [
       "nodes               1.0-103.0-11.0 1.0-113.0-3.0 1.0-73.0-23.0 10.0-1.0-2.0  \\\n",
       "channels                      PM25          PM25          PM25         PM25   \n",
       "DateTime                                                                      \n",
       "2018-01-01 05:00:00      10.900000     19.142857         11.44          5.4   \n",
       "2018-01-01 06:00:00       9.428533     16.000000         13.40          5.2   \n",
       "2018-01-01 07:00:00       9.472011     15.000000         21.10          8.0   \n",
       "2018-01-01 08:00:00       9.545652     15.000000         17.40          7.7   \n",
       "2018-01-01 09:00:00       9.561413     13.000000          5.40          7.6   \n",
       "\n",
       "nodes               10.0-3.0-1007.0 10.0-3.0-1008.0 10.0-3.0-2004.0  \\\n",
       "channels                       PM25            PM25            PM25   \n",
       "DateTime                                                              \n",
       "2018-01-01 05:00:00            13.0            10.0             7.2   \n",
       "2018-01-01 06:00:00            12.1            12.1             5.6   \n",
       "2018-01-01 07:00:00            13.0            12.8             5.1   \n",
       "2018-01-01 08:00:00            14.1            12.5             4.8   \n",
       "2018-01-01 09:00:00            15.7             7.9             4.2   \n",
       "\n",
       "nodes               10.0-5.0-1002.0 11.0-1.0-41.0 11.0-1.0-43.0  ...  \\\n",
       "channels                       PM25          PM25          PM25  ...   \n",
       "DateTime                                                         ...   \n",
       "2018-01-01 05:00:00             5.2          10.0          12.0  ...   \n",
       "2018-01-01 06:00:00             5.2          14.0          11.0  ...   \n",
       "2018-01-01 07:00:00             5.2          11.0          11.0  ...   \n",
       "2018-01-01 08:00:00             6.1          16.0           9.0  ...   \n",
       "2018-01-01 09:00:00             6.0           8.0          10.0  ...   \n",
       "\n",
       "nodes               80.0-2.0-12.0 80.0-2.0-14.0 9.0-1.0-10.0 9.0-1.0-1123.0  \\\n",
       "channels                     PM25          PM25         PM25           PM25   \n",
       "DateTime                                                                      \n",
       "2018-01-01 05:00:00     53.166668    116.166664         11.0            9.0   \n",
       "2018-01-01 06:00:00     61.833332    137.500000          8.0            9.0   \n",
       "2018-01-01 07:00:00     71.500000    141.166672          9.0            5.0   \n",
       "2018-01-01 08:00:00    344.000000    622.000000          8.0            3.0   \n",
       "2018-01-01 09:00:00    292.000000    744.000000          5.0            4.0   \n",
       "\n",
       "nodes               9.0-11.0-124.0 9.0-3.0-1003.0 9.0-3.0-25.0 9.0-5.0-5.0  \\\n",
       "channels                      PM25           PM25         PM25        PM25   \n",
       "DateTime                                                                     \n",
       "2018-01-01 05:00:00            7.0            6.0          8.0         7.0   \n",
       "2018-01-01 06:00:00            7.0            6.0         10.0         6.0   \n",
       "2018-01-01 07:00:00            6.0            8.0          7.0         5.0   \n",
       "2018-01-01 08:00:00            3.0            7.0          3.0         1.0   \n",
       "2018-01-01 09:00:00            3.0            5.0          3.0         4.0   \n",
       "\n",
       "nodes               9.0-9.0-2123.0 9.0-9.0-27.0  \n",
       "channels                      PM25         PM25  \n",
       "DateTime                                         \n",
       "2018-01-01 05:00:00            0.0          3.0  \n",
       "2018-01-01 06:00:00            1.0          3.0  \n",
       "2018-01-01 07:00:00            4.0          3.0  \n",
       "2018-01-01 08:00:00            3.0          1.0  \n",
       "2018-01-01 09:00:00            1.0          0.0  \n",
       "\n",
       "[5 rows x 695 columns]"
      ]
     },
     "execution_count": 25,
     "metadata": {},
     "output_type": "execute_result"
    }
   ],
   "source": [
    "aq.dataset.head()"
   ]
  },
  {
   "cell_type": "markdown",
   "metadata": {},
   "source": [
    "The method <i>get_closest_nodes()</i> is used to get the N closest nodes to a given node. "
   ]
  },
  {
   "cell_type": "code",
   "execution_count": 26,
   "metadata": {},
   "outputs": [
    {
     "name": "stdout",
     "output_type": "stream",
     "text": [
      "[0, 1, 2, 33, 34, 35, 36, 38, 39, 41, 42, 43, 73, 79, 111, 112, 113, 115, 117, 121, 123, 125, 201, 202, 203, 206, 207, 305, 308, 429, 431, 442, 443, 444, 445, 446, 447, 448, 449, 450, 451, 453, 454, 455, 456, 457, 458, 459, 460, 461]\n"
     ]
    }
   ],
   "source": [
    "print(aq.get_closest_nodes(start_node='1.0-103.0-11.0', n_nodes = 50))"
   ]
  },
  {
   "cell_type": "code",
   "execution_count": 33,
   "metadata": {},
   "outputs": [],
   "source": [
    "def node_info_pm25(df, node):\n",
    "\n",
    "    pm25 = df.loc[:, node]['PM25']\n",
    "    pm25_nans = pm25.isna().sum()\n",
    "\n",
    "    return pm25_nans"
   ]
  },
  {
   "cell_type": "code",
   "execution_count": 35,
   "metadata": {},
   "outputs": [],
   "source": [
    "nans_df = pd.DataFrame(columns=['node', 'nans_num'])\n",
    "for i, node in enumerate(sites.columns.get_level_values(0).drop_duplicates()):\n",
    "    nans_df.loc[i] = [node] + [node_info_pm25(sites,node)]"
   ]
  },
  {
   "cell_type": "code",
   "execution_count": 36,
   "metadata": {},
   "outputs": [],
   "source": [
    "from tqdm import tqdm"
   ]
  },
  {
   "cell_type": "code",
   "execution_count": 38,
   "metadata": {},
   "outputs": [],
   "source": [
    "result = pd.DataFrame(columns=['start_node', 'nans_sum'])"
   ]
  },
  {
   "cell_type": "markdown",
   "metadata": {},
   "source": [
    "We search for an optimal size and node to use as parameters to construct the subgraph:"
   ]
  },
  {
   "cell_type": "code",
   "execution_count": 39,
   "metadata": {},
   "outputs": [
    {
     "name": "stderr",
     "output_type": "stream",
     "text": [
      "                                                 \r"
     ]
    },
    {
     "name": "stdout",
     "output_type": "stream",
     "text": [
      "Subgraphs of size 50\t6.0-83.0-2004.0  10.566815017688008% of nan on total nodes\n"
     ]
    },
    {
     "name": "stderr",
     "output_type": "stream",
     "text": [
      "                                                 \r"
     ]
    },
    {
     "name": "stdout",
     "output_type": "stream",
     "text": [
      "Subgraphs of size 60\t6.0-31.0-4.0  10.399977176765947% of nan on total nodes\n"
     ]
    },
    {
     "name": "stderr",
     "output_type": "stream",
     "text": [
      "                                                 \r"
     ]
    },
    {
     "name": "stdout",
     "output_type": "stream",
     "text": [
      "Subgraphs of size 70\t6.0-79.0-8002.0  10.948549909522178% of nan on total nodes\n"
     ]
    },
    {
     "name": "stderr",
     "output_type": "stream",
     "text": [
      "                                                 \r"
     ]
    },
    {
     "name": "stdout",
     "output_type": "stream",
     "text": [
      "Subgraphs of size 80\t15.0-1.0-1006.0  14.284776902887138% of nan on total nodes\n"
     ]
    },
    {
     "name": "stderr",
     "output_type": "stream",
     "text": [
      "                                                 \r"
     ]
    },
    {
     "name": "stdout",
     "output_type": "stream",
     "text": [
      "Subgraphs of size 90\t6.0-31.0-1004.0  16.503353747448234% of nan on total nodes\n"
     ]
    },
    {
     "name": "stderr",
     "output_type": "stream",
     "text": [
      "                                                 "
     ]
    },
    {
     "name": "stdout",
     "output_type": "stream",
     "text": [
      "Subgraphs of size 100\t19.0-103.0-2001.0  17.17145954581764% of nan on total nodes\n"
     ]
    },
    {
     "name": "stderr",
     "output_type": "stream",
     "text": [
      "\r"
     ]
    }
   ],
   "source": [
    "for size in [50,60,70,80,90,100]:\n",
    "    for i, node in enumerate(tqdm(sites.columns.get_level_values(0).drop_duplicates(), leave=False)):\n",
    "        neighbours = aq.get_closest_nodes(node, size)\n",
    "        sum = 0\n",
    "        for subnode in neighbours:\n",
    "            subnode = aq.lookup_id(subnode)\n",
    "            sum+=(nans_df.loc[nans_df['node'] == subnode])['nans_num'].item()\n",
    "        result.loc[i] = [node] + [sum]\n",
    "    #print(\"\\r\")\n",
    "    print('Subgraphs of size '+str(size), end ='')\n",
    "    min_node = result.loc[:, 'nans_sum'].idxmin()\n",
    "    min = result.loc[:, 'nans_sum'].min()\n",
    "    print(\"\\t\" + aq.lookup_id(min_node), \" \" + str((min/(size*17526) * 100)) + \"% of nan on total nodes\")"
   ]
  },
  {
   "cell_type": "markdown",
   "metadata": {},
   "source": [
    "We choose to use the starting node '6.0-79.0-8002.0' and a size of 70 since this way we can get a good number of valid values together with a good number of nodes."
   ]
  },
  {
   "cell_type": "code",
   "execution_count": 45,
   "metadata": {},
   "outputs": [
    {
     "name": "stdout",
     "output_type": "stream",
     "text": [
      "Found temporal data pickle, loading...\tDONE!\n",
      "Found a valid build, loading... \tDONE!\n",
      "AQ(length=26309, n_nodes=70, n_channels=1)\n"
     ]
    }
   ],
   "source": [
    "aq = AirQuality(data_dir='../data', is_subgraph=True, sub_size = 70, sub_start= '6.0-79.0-8002.0')\n",
    "print(aq)"
   ]
  },
  {
   "cell_type": "code",
   "execution_count": 46,
   "metadata": {},
   "outputs": [
    {
     "data": {
      "text/html": [
       "<div>\n",
       "<style scoped>\n",
       "    .dataframe tbody tr th:only-of-type {\n",
       "        vertical-align: middle;\n",
       "    }\n",
       "\n",
       "    .dataframe tbody tr th {\n",
       "        vertical-align: top;\n",
       "    }\n",
       "\n",
       "    .dataframe thead th {\n",
       "        text-align: right;\n",
       "    }\n",
       "</style>\n",
       "<table border=\"1\" class=\"dataframe\">\n",
       "  <thead>\n",
       "    <tr style=\"text-align: right;\">\n",
       "      <th></th>\n",
       "      <th>256</th>\n",
       "      <th>585</th>\n",
       "      <th>586</th>\n",
       "      <th>587</th>\n",
       "      <th>588</th>\n",
       "      <th>589</th>\n",
       "      <th>590</th>\n",
       "      <th>594</th>\n",
       "      <th>595</th>\n",
       "      <th>596</th>\n",
       "      <th>...</th>\n",
       "      <th>656</th>\n",
       "      <th>657</th>\n",
       "      <th>658</th>\n",
       "      <th>659</th>\n",
       "      <th>660</th>\n",
       "      <th>661</th>\n",
       "      <th>663</th>\n",
       "      <th>664</th>\n",
       "      <th>665</th>\n",
       "      <th>666</th>\n",
       "    </tr>\n",
       "  </thead>\n",
       "  <tbody>\n",
       "    <tr>\n",
       "      <th>256</th>\n",
       "      <td>0.000000</td>\n",
       "      <td>252.826983</td>\n",
       "      <td>252.536928</td>\n",
       "      <td>251.740761</td>\n",
       "      <td>231.443093</td>\n",
       "      <td>223.965083</td>\n",
       "      <td>248.370495</td>\n",
       "      <td>496.774632</td>\n",
       "      <td>522.310010</td>\n",
       "      <td>519.189804</td>\n",
       "      <td>...</td>\n",
       "      <td>265.753810</td>\n",
       "      <td>255.815869</td>\n",
       "      <td>253.708031</td>\n",
       "      <td>289.893906</td>\n",
       "      <td>290.558672</td>\n",
       "      <td>113.036321</td>\n",
       "      <td>235.261656</td>\n",
       "      <td>273.522002</td>\n",
       "      <td>177.811511</td>\n",
       "      <td>183.993799</td>\n",
       "    </tr>\n",
       "    <tr>\n",
       "      <th>585</th>\n",
       "      <td>252.826983</td>\n",
       "      <td>0.000000</td>\n",
       "      <td>2.883137</td>\n",
       "      <td>5.839589</td>\n",
       "      <td>35.657821</td>\n",
       "      <td>46.024426</td>\n",
       "      <td>12.696312</td>\n",
       "      <td>463.860690</td>\n",
       "      <td>509.306663</td>\n",
       "      <td>486.330269</td>\n",
       "      <td>...</td>\n",
       "      <td>110.107532</td>\n",
       "      <td>62.080065</td>\n",
       "      <td>65.285612</td>\n",
       "      <td>85.408981</td>\n",
       "      <td>96.035640</td>\n",
       "      <td>146.810371</td>\n",
       "      <td>32.229345</td>\n",
       "      <td>80.547749</td>\n",
       "      <td>114.900296</td>\n",
       "      <td>132.404073</td>\n",
       "    </tr>\n",
       "    <tr>\n",
       "      <th>586</th>\n",
       "      <td>252.536928</td>\n",
       "      <td>2.883137</td>\n",
       "      <td>0.000000</td>\n",
       "      <td>8.633242</td>\n",
       "      <td>33.308270</td>\n",
       "      <td>43.753870</td>\n",
       "      <td>9.953156</td>\n",
       "      <td>460.978969</td>\n",
       "      <td>506.435374</td>\n",
       "      <td>483.447653</td>\n",
       "      <td>...</td>\n",
       "      <td>107.224516</td>\n",
       "      <td>59.198486</td>\n",
       "      <td>62.402607</td>\n",
       "      <td>82.770378</td>\n",
       "      <td>93.323464</td>\n",
       "      <td>145.955655</td>\n",
       "      <td>34.418405</td>\n",
       "      <td>83.430880</td>\n",
       "      <td>112.896597</td>\n",
       "      <td>130.182809</td>\n",
       "    </tr>\n",
       "    <tr>\n",
       "      <th>587</th>\n",
       "      <td>251.740761</td>\n",
       "      <td>5.839589</td>\n",
       "      <td>8.633242</td>\n",
       "      <td>0.000000</td>\n",
       "      <td>39.556224</td>\n",
       "      <td>49.651786</td>\n",
       "      <td>17.868201</td>\n",
       "      <td>469.377416</td>\n",
       "      <td>514.700738</td>\n",
       "      <td>491.869788</td>\n",
       "      <td>...</td>\n",
       "      <td>115.705954</td>\n",
       "      <td>67.721988</td>\n",
       "      <td>70.862241</td>\n",
       "      <td>91.219556</td>\n",
       "      <td>101.871648</td>\n",
       "      <td>146.958344</td>\n",
       "      <td>27.038035</td>\n",
       "      <td>75.001762</td>\n",
       "      <td>117.673114</td>\n",
       "      <td>135.699818</td>\n",
       "    </tr>\n",
       "    <tr>\n",
       "      <th>588</th>\n",
       "      <td>231.443093</td>\n",
       "      <td>35.657821</td>\n",
       "      <td>33.308270</td>\n",
       "      <td>39.556224</td>\n",
       "      <td>0.000000</td>\n",
       "      <td>10.563369</td>\n",
       "      <td>23.932907</td>\n",
       "      <td>434.125443</td>\n",
       "      <td>478.390610</td>\n",
       "      <td>456.825718</td>\n",
       "      <td>...</td>\n",
       "      <td>83.243180</td>\n",
       "      <td>39.227823</td>\n",
       "      <td>40.645567</td>\n",
       "      <td>72.712492</td>\n",
       "      <td>80.181709</td>\n",
       "      <td>120.800169</td>\n",
       "      <td>53.429740</td>\n",
       "      <td>111.915276</td>\n",
       "      <td>80.256299</td>\n",
       "      <td>96.943323</td>\n",
       "    </tr>\n",
       "    <tr>\n",
       "      <th>...</th>\n",
       "      <td>...</td>\n",
       "      <td>...</td>\n",
       "      <td>...</td>\n",
       "      <td>...</td>\n",
       "      <td>...</td>\n",
       "      <td>...</td>\n",
       "      <td>...</td>\n",
       "      <td>...</td>\n",
       "      <td>...</td>\n",
       "      <td>...</td>\n",
       "      <td>...</td>\n",
       "      <td>...</td>\n",
       "      <td>...</td>\n",
       "      <td>...</td>\n",
       "      <td>...</td>\n",
       "      <td>...</td>\n",
       "      <td>...</td>\n",
       "      <td>...</td>\n",
       "      <td>...</td>\n",
       "      <td>...</td>\n",
       "      <td>...</td>\n",
       "    </tr>\n",
       "    <tr>\n",
       "      <th>661</th>\n",
       "      <td>113.036321</td>\n",
       "      <td>146.810371</td>\n",
       "      <td>145.955655</td>\n",
       "      <td>146.958344</td>\n",
       "      <td>120.800169</td>\n",
       "      <td>112.433682</td>\n",
       "      <td>140.186569</td>\n",
       "      <td>437.103507</td>\n",
       "      <td>471.765402</td>\n",
       "      <td>460.273440</td>\n",
       "      <td>...</td>\n",
       "      <td>155.178534</td>\n",
       "      <td>142.826973</td>\n",
       "      <td>140.677602</td>\n",
       "      <td>176.891480</td>\n",
       "      <td>177.868842</td>\n",
       "      <td>0.000000</td>\n",
       "      <td>136.651980</td>\n",
       "      <td>187.904868</td>\n",
       "      <td>68.054197</td>\n",
       "      <td>80.511075</td>\n",
       "    </tr>\n",
       "    <tr>\n",
       "      <th>663</th>\n",
       "      <td>235.261656</td>\n",
       "      <td>32.229345</td>\n",
       "      <td>34.418405</td>\n",
       "      <td>27.038035</td>\n",
       "      <td>53.429740</td>\n",
       "      <td>60.947425</td>\n",
       "      <td>40.411322</td>\n",
       "      <td>487.546359</td>\n",
       "      <td>531.641358</td>\n",
       "      <td>510.253787</td>\n",
       "      <td>...</td>\n",
       "      <td>135.866420</td>\n",
       "      <td>89.106272</td>\n",
       "      <td>91.595886</td>\n",
       "      <td>116.374417</td>\n",
       "      <td>126.381037</td>\n",
       "      <td>136.651980</td>\n",
       "      <td>0.000000</td>\n",
       "      <td>60.744426</td>\n",
       "      <td>120.574817</td>\n",
       "      <td>140.848870</td>\n",
       "    </tr>\n",
       "    <tr>\n",
       "      <th>664</th>\n",
       "      <td>273.522002</td>\n",
       "      <td>80.547749</td>\n",
       "      <td>83.430880</td>\n",
       "      <td>75.001762</td>\n",
       "      <td>111.915276</td>\n",
       "      <td>120.591217</td>\n",
       "      <td>92.834601</td>\n",
       "      <td>544.379093</td>\n",
       "      <td>589.582476</td>\n",
       "      <td>566.868075</td>\n",
       "      <td>...</td>\n",
       "      <td>190.652438</td>\n",
       "      <td>142.607431</td>\n",
       "      <td>145.832390</td>\n",
       "      <td>162.485035</td>\n",
       "      <td>174.013261</td>\n",
       "      <td>187.904868</td>\n",
       "      <td>60.744426</td>\n",
       "      <td>0.000000</td>\n",
       "      <td>180.831237</td>\n",
       "      <td>201.426925</td>\n",
       "    </tr>\n",
       "    <tr>\n",
       "      <th>665</th>\n",
       "      <td>177.811511</td>\n",
       "      <td>114.900296</td>\n",
       "      <td>112.896597</td>\n",
       "      <td>117.673114</td>\n",
       "      <td>80.256299</td>\n",
       "      <td>69.720197</td>\n",
       "      <td>104.056518</td>\n",
       "      <td>388.907569</td>\n",
       "      <td>428.121406</td>\n",
       "      <td>412.087927</td>\n",
       "      <td>...</td>\n",
       "      <td>87.978786</td>\n",
       "      <td>85.908326</td>\n",
       "      <td>82.709894</td>\n",
       "      <td>115.794669</td>\n",
       "      <td>114.431450</td>\n",
       "      <td>68.054197</td>\n",
       "      <td>120.574817</td>\n",
       "      <td>180.831237</td>\n",
       "      <td>0.000000</td>\n",
       "      <td>22.070142</td>\n",
       "    </tr>\n",
       "    <tr>\n",
       "      <th>666</th>\n",
       "      <td>183.993799</td>\n",
       "      <td>132.404073</td>\n",
       "      <td>130.182809</td>\n",
       "      <td>135.699818</td>\n",
       "      <td>96.943323</td>\n",
       "      <td>86.435629</td>\n",
       "      <td>120.857709</td>\n",
       "      <td>367.598216</td>\n",
       "      <td>406.369422</td>\n",
       "      <td>390.794198</td>\n",
       "      <td>...</td>\n",
       "      <td>85.022446</td>\n",
       "      <td>94.797126</td>\n",
       "      <td>91.079523</td>\n",
       "      <td>120.043494</td>\n",
       "      <td>116.436775</td>\n",
       "      <td>80.511075</td>\n",
       "      <td>140.848870</td>\n",
       "      <td>201.426925</td>\n",
       "      <td>22.070142</td>\n",
       "      <td>0.000000</td>\n",
       "    </tr>\n",
       "  </tbody>\n",
       "</table>\n",
       "<p>70 rows × 70 columns</p>\n",
       "</div>"
      ],
      "text/plain": [
       "            256         585         586         587         588         589  \\\n",
       "256    0.000000  252.826983  252.536928  251.740761  231.443093  223.965083   \n",
       "585  252.826983    0.000000    2.883137    5.839589   35.657821   46.024426   \n",
       "586  252.536928    2.883137    0.000000    8.633242   33.308270   43.753870   \n",
       "587  251.740761    5.839589    8.633242    0.000000   39.556224   49.651786   \n",
       "588  231.443093   35.657821   33.308270   39.556224    0.000000   10.563369   \n",
       "..          ...         ...         ...         ...         ...         ...   \n",
       "661  113.036321  146.810371  145.955655  146.958344  120.800169  112.433682   \n",
       "663  235.261656   32.229345   34.418405   27.038035   53.429740   60.947425   \n",
       "664  273.522002   80.547749   83.430880   75.001762  111.915276  120.591217   \n",
       "665  177.811511  114.900296  112.896597  117.673114   80.256299   69.720197   \n",
       "666  183.993799  132.404073  130.182809  135.699818   96.943323   86.435629   \n",
       "\n",
       "            590         594         595         596  ...         656  \\\n",
       "256  248.370495  496.774632  522.310010  519.189804  ...  265.753810   \n",
       "585   12.696312  463.860690  509.306663  486.330269  ...  110.107532   \n",
       "586    9.953156  460.978969  506.435374  483.447653  ...  107.224516   \n",
       "587   17.868201  469.377416  514.700738  491.869788  ...  115.705954   \n",
       "588   23.932907  434.125443  478.390610  456.825718  ...   83.243180   \n",
       "..          ...         ...         ...         ...  ...         ...   \n",
       "661  140.186569  437.103507  471.765402  460.273440  ...  155.178534   \n",
       "663   40.411322  487.546359  531.641358  510.253787  ...  135.866420   \n",
       "664   92.834601  544.379093  589.582476  566.868075  ...  190.652438   \n",
       "665  104.056518  388.907569  428.121406  412.087927  ...   87.978786   \n",
       "666  120.857709  367.598216  406.369422  390.794198  ...   85.022446   \n",
       "\n",
       "            657         658         659         660         661         663  \\\n",
       "256  255.815869  253.708031  289.893906  290.558672  113.036321  235.261656   \n",
       "585   62.080065   65.285612   85.408981   96.035640  146.810371   32.229345   \n",
       "586   59.198486   62.402607   82.770378   93.323464  145.955655   34.418405   \n",
       "587   67.721988   70.862241   91.219556  101.871648  146.958344   27.038035   \n",
       "588   39.227823   40.645567   72.712492   80.181709  120.800169   53.429740   \n",
       "..          ...         ...         ...         ...         ...         ...   \n",
       "661  142.826973  140.677602  176.891480  177.868842    0.000000  136.651980   \n",
       "663   89.106272   91.595886  116.374417  126.381037  136.651980    0.000000   \n",
       "664  142.607431  145.832390  162.485035  174.013261  187.904868   60.744426   \n",
       "665   85.908326   82.709894  115.794669  114.431450   68.054197  120.574817   \n",
       "666   94.797126   91.079523  120.043494  116.436775   80.511075  140.848870   \n",
       "\n",
       "            664         665         666  \n",
       "256  273.522002  177.811511  183.993799  \n",
       "585   80.547749  114.900296  132.404073  \n",
       "586   83.430880  112.896597  130.182809  \n",
       "587   75.001762  117.673114  135.699818  \n",
       "588  111.915276   80.256299   96.943323  \n",
       "..          ...         ...         ...  \n",
       "661  187.904868   68.054197   80.511075  \n",
       "663   60.744426  120.574817  140.848870  \n",
       "664    0.000000  180.831237  201.426925  \n",
       "665  180.831237    0.000000   22.070142  \n",
       "666  201.426925   22.070142    0.000000  \n",
       "\n",
       "[70 rows x 70 columns]"
      ]
     },
     "execution_count": 46,
     "metadata": {},
     "output_type": "execute_result"
    }
   ],
   "source": [
    "aq.dist_mat"
   ]
  },
  {
   "cell_type": "markdown",
   "metadata": {},
   "source": [
    "Then we check the connectivity on our subgraph and we get the number of non-connected components."
   ]
  },
  {
   "cell_type": "code",
   "execution_count": 51,
   "metadata": {},
   "outputs": [],
   "source": [
    "adj = aq.get_connectivity(threshold=0.1,\n",
    "                               include_self=False,\n",
    "                               normalize_axis=1,\n",
    "                               layout=\"edge_index\")\n",
    "\n",
    "edge_index, edge_weight = adj"
   ]
  },
  {
   "cell_type": "code",
   "execution_count": 53,
   "metadata": {},
   "outputs": [],
   "source": [
    "adj_expected = 70 ** 2"
   ]
  },
  {
   "cell_type": "code",
   "execution_count": 57,
   "metadata": {},
   "outputs": [
    {
     "data": {
      "text/plain": [
       "2584"
      ]
     },
     "execution_count": 57,
     "metadata": {},
     "output_type": "execute_result"
    }
   ],
   "source": [
    "adj_expected - edge_weight.shape[0]"
   ]
  }
 ],
 "metadata": {
  "interpreter": {
   "hash": "369f2c481f4da34e4445cda3fffd2e751bd1c4d706f27375911949ba6bb62e1c"
  },
  "kernelspec": {
   "display_name": "Python 3.10.2 64-bit",
   "language": "python",
   "name": "python3"
  },
  "language_info": {
   "codemirror_mode": {
    "name": "ipython",
    "version": 3
   },
   "file_extension": ".py",
   "mimetype": "text/x-python",
   "name": "python",
   "nbconvert_exporter": "python",
   "pygments_lexer": "ipython3",
   "version": "3.10.2"
  },
  "orig_nbformat": 4
 },
 "nbformat": 4,
 "nbformat_minor": 2
}
